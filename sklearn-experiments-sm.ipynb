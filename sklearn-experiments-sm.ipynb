{
 "cells": [
  {
   "cell_type": "markdown",
   "id": "790d3e1b-a33b-456c-be61-36ca438bd257",
   "metadata": {
    "tags": []
   },
   "source": [
    "# SageMaker Experiments Updated\n",
    "\n",
    "SageMaker Experiments recently has updated their [documentation](https://docs.aws.amazon.com/sagemaker/latest/dg/experiments.html). The experiments process has simplified to revolve around two main components as stated in the documentation:\n",
    "\n",
    "\n",
    "<b>Experiment</b>: An experiment is a collection of runs. When you initialize a run in your training loop, you include the name of the experiment that the run belongs to. Experiment names must be unique within your AWS account.\n",
    "\n",
    "<b>Run</b>: A run consists of all the inputs, parameters, configurations, and results for one interation of model training. Initialize an experiment run for tracking a training job with Run.init(). Within the run you can log parameters, metrics, and files that are relevant for your experiment.\n",
    "\n",
    "In this blog we will take a look at how we can take a model we are locally training and profile it on SageMaker Experiments to understand our training runs better. Please reference the official [AWS Blog](https://aws.amazon.com/blogs/machine-learning/next-generation-amazon-sagemaker-experiments-organize-track-and-compare-your-machine-learning-trainings-at-scale/) and [Experiments Code Samples](https://docs.aws.amazon.com/sagemaker/latest/dg/experiments-tutorials.html) for further information."
   ]
  },
  {
   "cell_type": "markdown",
   "id": "4659ee29-5586-4842-8f51-d57997bf2faf",
   "metadata": {},
   "source": [
    "## Credits/References\n",
    "\n",
    "I have used the following AWS example as a reference: https://sagemaker-examples.readthedocs.io/en/latest/sagemaker-experiments/local_experiment_tracking/pytorch_experiment.html. Please check this example if you have a PyTorch use-case that you are locally training."
   ]
  },
  {
   "cell_type": "markdown",
   "id": "2f5fba7f-e4ef-4800-90f5-413b89c3fd00",
   "metadata": {},
   "source": [
    "## Setup\n",
    "\n",
    "For this example I am using a Python 3 (Data Science 3.0) ml.t3.medium Kernel on SageMaker Studio. You can execute this notebook locally on your own IDE if properly authenticated, but I would advise using Studio for the UI benefits with SageMaker Experiments."
   ]
  },
  {
   "cell_type": "code",
   "execution_count": 2,
   "id": "10a43d08-917d-4757-845d-4e8cbbd2c6c8",
   "metadata": {},
   "outputs": [],
   "source": [
    "import sys"
   ]
  },
  {
   "cell_type": "code",
   "execution_count": 3,
   "id": "974d068f-34dd-4ea3-a31f-95a2b2eefab7",
   "metadata": {
    "tags": []
   },
   "outputs": [],
   "source": [
    "# update boto3 and sagemaker to ensure latest SDK version\n",
    "#!{sys.executable} -m pip install --upgrade pip\n",
    "#!{sys.executable} -m pip install --upgrade boto3\n",
    "#!{sys.executable} -m pip install --upgrade sagemaker"
   ]
  },
  {
   "cell_type": "code",
   "execution_count": 4,
   "id": "8eb032fa-3757-45c2-b4f1-9a3cd28a0ea0",
   "metadata": {
    "tags": []
   },
   "outputs": [],
   "source": [
    "import os\n",
    "import boto3\n",
    "import json\n",
    "import sagemaker\n",
    "from sagemaker.session import Session\n",
    "from sagemaker import get_execution_role\n",
    "from sagemaker.experiments.run import Run\n",
    "from sagemaker.experiments import load_run\n",
    "from sagemaker.utils import unique_name_from_base"
   ]
  },
  {
   "cell_type": "code",
   "execution_count": 5,
   "id": "389de9c9-06fa-4179-8509-0bf328ac624d",
   "metadata": {
    "tags": []
   },
   "outputs": [],
   "source": [
    "sagemaker_session = Session()\n",
    "boto_sess = boto3.Session()\n",
    "role = get_execution_role()\n",
    "default_bucket = sagemaker_session.default_bucket()\n",
    "sm = boto_sess.client(\"sagemaker\")\n",
    "region = boto_sess.region_name"
   ]
  },
  {
   "cell_type": "markdown",
   "id": "ecd6213d-51bd-44f9-9ae6-1257f706f833",
   "metadata": {},
   "source": [
    "## Dataset Processing\n",
    "\n",
    "Working with the Petrol Consumption Dataset from Kaggle for a Random Forest Regression Model.\n",
    "\n",
    "- [Dataset URL](https://www.kaggle.com/datasets/harinir/petrol-consumption)\n",
    "- [Citation](https://creativecommons.org/publicdomain/zero/1.0/)"
   ]
  },
  {
   "cell_type": "code",
   "execution_count": 6,
   "id": "2283cdbc-3e9b-436a-80c6-b2b2df06d20a",
   "metadata": {
    "tags": []
   },
   "outputs": [
    {
     "data": {
      "text/html": [
       "<div>\n",
       "<style scoped>\n",
       "    .dataframe tbody tr th:only-of-type {\n",
       "        vertical-align: middle;\n",
       "    }\n",
       "\n",
       "    .dataframe tbody tr th {\n",
       "        vertical-align: top;\n",
       "    }\n",
       "\n",
       "    .dataframe thead th {\n",
       "        text-align: right;\n",
       "    }\n",
       "</style>\n",
       "<table border=\"1\" class=\"dataframe\">\n",
       "  <thead>\n",
       "    <tr style=\"text-align: right;\">\n",
       "      <th></th>\n",
       "      <th>Petrol_tax</th>\n",
       "      <th>Average_income</th>\n",
       "      <th>Paved_Highways</th>\n",
       "      <th>Population_Driver_licence(%)</th>\n",
       "      <th>Petrol_Consumption</th>\n",
       "    </tr>\n",
       "  </thead>\n",
       "  <tbody>\n",
       "    <tr>\n",
       "      <th>0</th>\n",
       "      <td>9.0</td>\n",
       "      <td>3571</td>\n",
       "      <td>1976</td>\n",
       "      <td>0.525</td>\n",
       "      <td>541</td>\n",
       "    </tr>\n",
       "    <tr>\n",
       "      <th>1</th>\n",
       "      <td>9.0</td>\n",
       "      <td>4092</td>\n",
       "      <td>1250</td>\n",
       "      <td>0.572</td>\n",
       "      <td>524</td>\n",
       "    </tr>\n",
       "    <tr>\n",
       "      <th>2</th>\n",
       "      <td>9.0</td>\n",
       "      <td>3865</td>\n",
       "      <td>1586</td>\n",
       "      <td>0.580</td>\n",
       "      <td>561</td>\n",
       "    </tr>\n",
       "    <tr>\n",
       "      <th>3</th>\n",
       "      <td>7.5</td>\n",
       "      <td>4870</td>\n",
       "      <td>2351</td>\n",
       "      <td>0.529</td>\n",
       "      <td>414</td>\n",
       "    </tr>\n",
       "    <tr>\n",
       "      <th>4</th>\n",
       "      <td>8.0</td>\n",
       "      <td>4399</td>\n",
       "      <td>431</td>\n",
       "      <td>0.544</td>\n",
       "      <td>410</td>\n",
       "    </tr>\n",
       "  </tbody>\n",
       "</table>\n",
       "</div>"
      ],
      "text/plain": [
       "   Petrol_tax  Average_income  Paved_Highways  Population_Driver_licence(%)  \\\n",
       "0         9.0            3571            1976                         0.525   \n",
       "1         9.0            4092            1250                         0.572   \n",
       "2         9.0            3865            1586                         0.580   \n",
       "3         7.5            4870            2351                         0.529   \n",
       "4         8.0            4399             431                         0.544   \n",
       "\n",
       "   Petrol_Consumption  \n",
       "0                 541  \n",
       "1                 524  \n",
       "2                 561  \n",
       "3                 414  \n",
       "4                 410  "
      ]
     },
     "execution_count": 6,
     "metadata": {},
     "output_type": "execute_result"
    }
   ],
   "source": [
    "import pandas as pd\n",
    "\n",
    "df = pd.read_csv(\"petrol_consumption.csv\")\n",
    "df.head()"
   ]
  },
  {
   "cell_type": "code",
   "execution_count": 7,
   "id": "5254e7d1-8a8f-4b85-91f1-ec7ad12d8cc1",
   "metadata": {
    "tags": []
   },
   "outputs": [],
   "source": [
    "#split model data\n",
    "from sklearn.model_selection import train_test_split\n",
    "from sklearn.preprocessing import StandardScaler\n",
    "from sklearn.ensemble import RandomForestRegressor\n",
    "\n",
    "X = df.drop('Petrol_Consumption', axis = 1)\n",
    "y = df['Petrol_Consumption']\n",
    "X_train, X_test, y_train, y_test = train_test_split(X, y, test_size=0.2)\n",
    "sc = StandardScaler()\n",
    "X_train = sc.fit_transform(X_train) \n",
    "X_test = sc.transform(X_test)"
   ]
  },
  {
   "cell_type": "markdown",
   "id": "bc7e1215-84b6-42f7-a7b2-45932443972b",
   "metadata": {},
   "source": [
    "## Train Model Locally"
   ]
  },
  {
   "cell_type": "code",
   "execution_count": 8,
   "id": "3a9c136d-1728-4c04-9a61-9f18e8fba2b5",
   "metadata": {
    "tags": []
   },
   "outputs": [],
   "source": [
    "#Model Building\n",
    "samp_estimators = 10\n",
    "regressor = RandomForestRegressor(n_estimators=samp_estimators)\n",
    "regressor.fit(X_train, y_train)\n",
    "y_pred = regressor.predict(X_test)"
   ]
  },
  {
   "cell_type": "code",
   "execution_count": 9,
   "id": "2f60d0e8-ac25-4047-b4c9-c3fd6613dc9c",
   "metadata": {
    "tags": []
   },
   "outputs": [
    {
     "name": "stdout",
     "output_type": "stream",
     "text": [
      "60.50718965544507\n"
     ]
    }
   ],
   "source": [
    "from sklearn.metrics import mean_squared_error\n",
    "print(mean_squared_error(y_test,y_pred,squared=False))"
   ]
  },
  {
   "cell_type": "markdown",
   "id": "11cee76f-072d-4166-84da-73574a2b1791",
   "metadata": {},
   "source": [
    "## SageMaker Experiments Setup\n",
    "\n",
    "We first setup our experiment name, this will contain all our different training runs with our different parameter combinations. We then use the load_run command to pass in our experiment name. In this case we will create a run for each of the different number of estimators we are testing in the array below."
   ]
  },
  {
   "cell_type": "code",
   "execution_count": 10,
   "id": "bd7c195a-99c1-4f95-9945-02c95cf1d144",
   "metadata": {
    "tags": []
   },
   "outputs": [],
   "source": [
    "experiment_name = \"sm-experiments-sklearn\"\n",
    "estimators = [10, 20, 30, 40, 50]"
   ]
  },
  {
   "cell_type": "code",
   "execution_count": 11,
   "id": "ae2cf2f7-0a7b-4f1a-935d-f5d84498142b",
   "metadata": {
    "tags": []
   },
   "outputs": [
    {
     "name": "stderr",
     "output_type": "stream",
     "text": [
      "WARNING:sagemaker.experiments.run:run_name is explicitly supplied in load_run, which will be prioritized to load the Run object. In other words, the run name in the experiment config, fetched from the job environment or the current run context, will be ignored.\n",
      "WARNING:sagemaker.experiments.run:run_name is explicitly supplied in load_run, which will be prioritized to load the Run object. In other words, the run name in the experiment config, fetched from the job environment or the current run context, will be ignored.\n",
      "WARNING:sagemaker.experiments.run:run_name is explicitly supplied in load_run, which will be prioritized to load the Run object. In other words, the run name in the experiment config, fetched from the job environment or the current run context, will be ignored.\n",
      "WARNING:sagemaker.experiments.run:run_name is explicitly supplied in load_run, which will be prioritized to load the Run object. In other words, the run name in the experiment config, fetched from the job environment or the current run context, will be ignored.\n",
      "WARNING:sagemaker.experiments.run:run_name is explicitly supplied in load_run, which will be prioritized to load the Run object. In other words, the run name in the experiment config, fetched from the job environment or the current run context, will be ignored.\n"
     ]
    }
   ],
   "source": [
    "for est in enumerate(estimators):\n",
    "    run_name = f\"run-{est[0]}\"\n",
    "    with load_run(\n",
    "        experiment_name=experiment_name, run_name=run_name, sagemaker_session=Session()\n",
    "    ) as run:\n",
    "        run.log_parameter(\"estimators\", est[1])\n",
    "        regressor = RandomForestRegressor(n_estimators=est[1])\n",
    "        regressor.fit(X_train, y_train)\n",
    "        y_pred = regressor.predict(X_test)\n",
    "        run.log_metric(name = \"RMSE\", value = mean_squared_error(y_test,y_pred,squared=False))"
   ]
  }
 ],
 "metadata": {
  "instance_type": "ml.t3.medium",
  "kernelspec": {
   "display_name": "Python 3 (Data Science 3.0)",
   "language": "python",
   "name": "python3__SAGEMAKER_INTERNAL__arn:aws:sagemaker:us-east-1:081325390199:image/sagemaker-data-science-310-v1"
  },
  "language_info": {
   "codemirror_mode": {
    "name": "ipython",
    "version": 3
   },
   "file_extension": ".py",
   "mimetype": "text/x-python",
   "name": "python",
   "nbconvert_exporter": "python",
   "pygments_lexer": "ipython3",
   "version": "3.10.6"
  }
 },
 "nbformat": 4,
 "nbformat_minor": 5
}
